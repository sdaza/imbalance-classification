{
 "cells": [
  {
   "cell_type": "markdown",
   "metadata": {},
   "source": [
    "# Classification Problem \n",
    "\n",
    "## Read and explore the data"
   ]
  },
  {
   "cell_type": "code",
   "execution_count": 394,
   "metadata": {},
   "outputs": [],
   "source": [
    "%matplotlib inline\n",
    "import numpy as np\n",
    "import pandas as pd\n",
    "import matplotlib.pyplot as plt\n",
    "import seaborn as sns\n",
    "import re\n",
    "plt.style.use('seaborn')"
   ]
  },
  {
   "cell_type": "code",
   "execution_count": 395,
   "metadata": {},
   "outputs": [
    {
     "data": {
      "text/plain": [
       "(391282, 20)"
      ]
     },
     "execution_count": 395,
     "metadata": {},
     "output_type": "execute_result"
    }
   ],
   "source": [
    "train = pd.read_json('train.json')\n",
    "train.shape"
   ]
  },
  {
   "cell_type": "code",
   "execution_count": 396,
   "metadata": {},
   "outputs": [
    {
     "data": {
      "text/plain": [
       "(97405, 19)"
      ]
     },
     "execution_count": 396,
     "metadata": {},
     "output_type": "execute_result"
    }
   ],
   "source": [
    "test = pd.read_json('test.json') # 20% \n",
    "test.shape"
   ]
  },
  {
   "cell_type": "markdown",
   "metadata": {},
   "source": [
    "### Missing data"
   ]
  },
  {
   "cell_type": "code",
   "execution_count": 397,
   "metadata": {},
   "outputs": [
    {
     "data": {
      "text/plain": [
       "esr       0.183604\n",
       "intp      0.171086\n",
       "pap       0.171086\n",
       "pincp     0.171086\n",
       "povpip    0.033454\n",
       "retp      0.171086\n",
       "schl      0.030592\n",
       "wkhp      0.488292\n",
       "dtype: float64"
      ]
     },
     "execution_count": 397,
     "metadata": {},
     "output_type": "execute_result"
    }
   ],
   "source": [
    "m = train.isnull().sum()/len(train)\n",
    "m[m>0.00]"
   ]
  },
  {
   "cell_type": "code",
   "execution_count": 398,
   "metadata": {},
   "outputs": [
    {
     "data": {
      "text/plain": [
       "esr       0.183492\n",
       "intp      0.171172\n",
       "pap       0.171172\n",
       "pincp     0.171172\n",
       "povpip    0.033386\n",
       "retp      0.171172\n",
       "schl      0.030204\n",
       "wkhp      0.486423\n",
       "dtype: float64"
      ]
     },
     "execution_count": 398,
     "metadata": {},
     "output_type": "execute_result"
    }
   ],
   "source": [
    "m_test = test.isnull().sum()/len(test)\n",
    "m_test[m_test>0.00]"
   ]
  },
  {
   "cell_type": "markdown",
   "metadata": {},
   "source": [
    "Working hours might be related to workging status, so if person isn't working I can impute 0 hours."
   ]
  },
  {
   "cell_type": "code",
   "execution_count": 399,
   "metadata": {},
   "outputs": [
    {
     "data": {
      "text/html": [
       "<div>\n",
       "<style>\n",
       "    .dataframe thead tr:only-child th {\n",
       "        text-align: right;\n",
       "    }\n",
       "\n",
       "    .dataframe thead th {\n",
       "        text-align: left;\n",
       "    }\n",
       "\n",
       "    .dataframe tbody tr th {\n",
       "        vertical-align: top;\n",
       "    }\n",
       "</style>\n",
       "<table border=\"1\" class=\"dataframe\">\n",
       "  <thead>\n",
       "    <tr style=\"text-align: right;\">\n",
       "      <th>wkhp</th>\n",
       "      <th>False</th>\n",
       "      <th>True</th>\n",
       "    </tr>\n",
       "    <tr>\n",
       "      <th>esr</th>\n",
       "      <th></th>\n",
       "      <th></th>\n",
       "    </tr>\n",
       "  </thead>\n",
       "  <tbody>\n",
       "    <tr>\n",
       "      <th>Employed</th>\n",
       "      <td>180553</td>\n",
       "      <td>0</td>\n",
       "    </tr>\n",
       "    <tr>\n",
       "      <th>Not in labor force</th>\n",
       "      <td>13645</td>\n",
       "      <td>113751</td>\n",
       "    </tr>\n",
       "    <tr>\n",
       "      <th>Unemployed</th>\n",
       "      <td>6024</td>\n",
       "      <td>5468</td>\n",
       "    </tr>\n",
       "  </tbody>\n",
       "</table>\n",
       "</div>"
      ],
      "text/plain": [
       "wkhp                 False   True \n",
       "esr                               \n",
       "Employed            180553       0\n",
       "Not in labor force   13645  113751\n",
       "Unemployed            6024    5468"
      ]
     },
     "execution_count": 399,
     "metadata": {},
     "output_type": "execute_result"
    }
   ],
   "source": [
    "pd.crosstab(train['esr'], train['wkhp'].isnull())"
   ]
  },
  {
   "cell_type": "code",
   "execution_count": 400,
   "metadata": {},
   "outputs": [
    {
     "data": {
      "text/html": [
       "<div>\n",
       "<style>\n",
       "    .dataframe thead tr:only-child th {\n",
       "        text-align: right;\n",
       "    }\n",
       "\n",
       "    .dataframe thead th {\n",
       "        text-align: left;\n",
       "    }\n",
       "\n",
       "    .dataframe tbody tr th {\n",
       "        vertical-align: top;\n",
       "    }\n",
       "</style>\n",
       "<table border=\"1\" class=\"dataframe\">\n",
       "  <thead>\n",
       "    <tr style=\"text-align: right;\">\n",
       "      <th>wkhp</th>\n",
       "      <th>False</th>\n",
       "      <th>True</th>\n",
       "    </tr>\n",
       "    <tr>\n",
       "      <th>esr</th>\n",
       "      <th></th>\n",
       "      <th></th>\n",
       "    </tr>\n",
       "  </thead>\n",
       "  <tbody>\n",
       "    <tr>\n",
       "      <th>Employed</th>\n",
       "      <td>45174</td>\n",
       "      <td>0</td>\n",
       "    </tr>\n",
       "    <tr>\n",
       "      <th>Not in labor force</th>\n",
       "      <td>3365</td>\n",
       "      <td>28178</td>\n",
       "    </tr>\n",
       "    <tr>\n",
       "      <th>Unemployed</th>\n",
       "      <td>1486</td>\n",
       "      <td>1329</td>\n",
       "    </tr>\n",
       "  </tbody>\n",
       "</table>\n",
       "</div>"
      ],
      "text/plain": [
       "wkhp                False  True \n",
       "esr                             \n",
       "Employed            45174      0\n",
       "Not in labor force   3365  28178\n",
       "Unemployed           1486   1329"
      ]
     },
     "execution_count": 400,
     "metadata": {},
     "output_type": "execute_result"
    }
   ],
   "source": [
    "pd.crosstab(test['esr'], test['wkhp'].isnull())"
   ]
  },
  {
   "cell_type": "markdown",
   "metadata": {},
   "source": [
    "It makes sense, most of the people not working hast missing working hours. "
   ]
  },
  {
   "cell_type": "code",
   "execution_count": 401,
   "metadata": {},
   "outputs": [],
   "source": [
    "# impute working hours\n",
    "not_working = ['Not in labor force', 'Unemployed']\n",
    "train.loc[train.esr.isin(not_working) & train.wkhp.isnull(), 'wkhp'] = 0.0\n",
    "test.loc[test.esr.isin(not_working) & test.wkhp.isnull(), 'wkhp'] = 0.0"
   ]
  },
  {
   "cell_type": "code",
   "execution_count": 117,
   "metadata": {},
   "outputs": [],
   "source": [
    "m_train = train.isnull().sum()/len(train)\n",
    "variables = list(m_train[m_train>0.00].index)"
   ]
  },
  {
   "cell_type": "code",
   "execution_count": 36,
   "metadata": {},
   "outputs": [],
   "source": [
    "m_test = test.isnull().sum()/len(test)\n",
    "m_test[m_test>0.00]"
   ]
  },
  {
   "cell_type": "code",
   "execution_count": 402,
   "metadata": {},
   "outputs": [],
   "source": [
    "# geographic info\n",
    "\n",
    "train.st.value_counts()"
   ]
  },
  {
   "cell_type": "code",
   "execution_count": 409,
   "metadata": {},
   "outputs": [],
   "source": [
    "train.describe()"
   ]
  },
  {
   "cell_type": "code",
   "execution_count": 409,
   "metadata": {},
   "outputs": [
    {
     "data": {
      "text/html": [
       "<div>\n",
       "<style>\n",
       "    .dataframe thead tr:only-child th {\n",
       "        text-align: right;\n",
       "    }\n",
       "\n",
       "    .dataframe thead th {\n",
       "        text-align: left;\n",
       "    }\n",
       "\n",
       "    .dataframe tbody tr th {\n",
       "        vertical-align: top;\n",
       "    }\n",
       "</style>\n",
       "<table border=\"1\" class=\"dataframe\">\n",
       "  <thead>\n",
       "    <tr style=\"text-align: right;\">\n",
       "      <th></th>\n",
       "      <th>agep</th>\n",
       "      <th>id</th>\n",
       "      <th>intp</th>\n",
       "      <th>pap</th>\n",
       "      <th>pincp</th>\n",
       "      <th>povpip</th>\n",
       "      <th>puma</th>\n",
       "      <th>retp</th>\n",
       "      <th>st</th>\n",
       "      <th>wkhp</th>\n",
       "    </tr>\n",
       "  </thead>\n",
       "  <tbody>\n",
       "    <tr>\n",
       "      <th>count</th>\n",
       "      <td>391282.000000</td>\n",
       "      <td>391282.000000</td>\n",
       "      <td>324339.000000</td>\n",
       "      <td>324339.000000</td>\n",
       "      <td>3.243390e+05</td>\n",
       "      <td>378192.000000</td>\n",
       "      <td>391282.000000</td>\n",
       "      <td>324339.000000</td>\n",
       "      <td>391282.000000</td>\n",
       "      <td>319441.000000</td>\n",
       "    </tr>\n",
       "    <tr>\n",
       "      <th>mean</th>\n",
       "      <td>40.270654</td>\n",
       "      <td>244270.902058</td>\n",
       "      <td>2865.107354</td>\n",
       "      <td>62.991376</td>\n",
       "      <td>4.275779e+04</td>\n",
       "      <td>323.029030</td>\n",
       "      <td>5965.284286</td>\n",
       "      <td>2738.919735</td>\n",
       "      <td>15.839032</td>\n",
       "      <td>23.612335</td>\n",
       "    </tr>\n",
       "    <tr>\n",
       "      <th>std</th>\n",
       "      <td>23.295014</td>\n",
       "      <td>141068.130184</td>\n",
       "      <td>20811.953626</td>\n",
       "      <td>723.800071</td>\n",
       "      <td>6.607798e+04</td>\n",
       "      <td>167.411633</td>\n",
       "      <td>3458.362587</td>\n",
       "      <td>12776.410347</td>\n",
       "      <td>18.194822</td>\n",
       "      <td>20.988315</td>\n",
       "    </tr>\n",
       "    <tr>\n",
       "      <th>min</th>\n",
       "      <td>0.000000</td>\n",
       "      <td>2.000000</td>\n",
       "      <td>-5400.000000</td>\n",
       "      <td>0.000000</td>\n",
       "      <td>-9.700000e+03</td>\n",
       "      <td>0.000000</td>\n",
       "      <td>100.000000</td>\n",
       "      <td>0.000000</td>\n",
       "      <td>6.000000</td>\n",
       "      <td>0.000000</td>\n",
       "    </tr>\n",
       "    <tr>\n",
       "      <th>25%</th>\n",
       "      <td>21.000000</td>\n",
       "      <td>122075.250000</td>\n",
       "      <td>0.000000</td>\n",
       "      <td>0.000000</td>\n",
       "      <td>6.600000e+03</td>\n",
       "      <td>173.000000</td>\n",
       "      <td>3715.000000</td>\n",
       "      <td>0.000000</td>\n",
       "      <td>6.000000</td>\n",
       "      <td>0.000000</td>\n",
       "    </tr>\n",
       "    <tr>\n",
       "      <th>50%</th>\n",
       "      <td>40.000000</td>\n",
       "      <td>244268.000000</td>\n",
       "      <td>0.000000</td>\n",
       "      <td>0.000000</td>\n",
       "      <td>2.300000e+04</td>\n",
       "      <td>342.000000</td>\n",
       "      <td>6101.000000</td>\n",
       "      <td>0.000000</td>\n",
       "      <td>6.000000</td>\n",
       "      <td>30.000000</td>\n",
       "    </tr>\n",
       "    <tr>\n",
       "      <th>75%</th>\n",
       "      <td>59.000000</td>\n",
       "      <td>366412.750000</td>\n",
       "      <td>0.000000</td>\n",
       "      <td>0.000000</td>\n",
       "      <td>5.470000e+04</td>\n",
       "      <td>501.000000</td>\n",
       "      <td>8503.000000</td>\n",
       "      <td>0.000000</td>\n",
       "      <td>6.000000</td>\n",
       "      <td>40.000000</td>\n",
       "    </tr>\n",
       "    <tr>\n",
       "      <th>max</th>\n",
       "      <td>94.000000</td>\n",
       "      <td>488687.000000</td>\n",
       "      <td>308000.000000</td>\n",
       "      <td>30000.000000</td>\n",
       "      <td>1.364000e+06</td>\n",
       "      <td>501.000000</td>\n",
       "      <td>11900.000000</td>\n",
       "      <td>162000.000000</td>\n",
       "      <td>53.000000</td>\n",
       "      <td>99.000000</td>\n",
       "    </tr>\n",
       "  </tbody>\n",
       "</table>\n",
       "</div>"
      ],
      "text/plain": [
       "                agep             id           intp            pap  \\\n",
       "count  391282.000000  391282.000000  324339.000000  324339.000000   \n",
       "mean       40.270654  244270.902058    2865.107354      62.991376   \n",
       "std        23.295014  141068.130184   20811.953626     723.800071   \n",
       "min         0.000000       2.000000   -5400.000000       0.000000   \n",
       "25%        21.000000  122075.250000       0.000000       0.000000   \n",
       "50%        40.000000  244268.000000       0.000000       0.000000   \n",
       "75%        59.000000  366412.750000       0.000000       0.000000   \n",
       "max        94.000000  488687.000000  308000.000000   30000.000000   \n",
       "\n",
       "              pincp         povpip           puma           retp  \\\n",
       "count  3.243390e+05  378192.000000  391282.000000  324339.000000   \n",
       "mean   4.275779e+04     323.029030    5965.284286    2738.919735   \n",
       "std    6.607798e+04     167.411633    3458.362587   12776.410347   \n",
       "min   -9.700000e+03       0.000000     100.000000       0.000000   \n",
       "25%    6.600000e+03     173.000000    3715.000000       0.000000   \n",
       "50%    2.300000e+04     342.000000    6101.000000       0.000000   \n",
       "75%    5.470000e+04     501.000000    8503.000000       0.000000   \n",
       "max    1.364000e+06     501.000000   11900.000000  162000.000000   \n",
       "\n",
       "                  st           wkhp  \n",
       "count  391282.000000  319441.000000  \n",
       "mean       15.839032      23.612335  \n",
       "std        18.194822      20.988315  \n",
       "min         6.000000       0.000000  \n",
       "25%         6.000000       0.000000  \n",
       "50%         6.000000      30.000000  \n",
       "75%         6.000000      40.000000  \n",
       "max        53.000000      99.000000  "
      ]
     },
     "execution_count": 409,
     "metadata": {},
     "output_type": "execute_result"
    }
   ],
   "source": [
    "train.crosstab()"
   ]
  },
  {
   "cell_type": "code",
   "execution_count": 415,
   "metadata": {},
   "outputs": [],
   "source": [
    "# simple function to impute missing values, to do it by puma/state?\n",
    "# more complex approach can be used in future application (e.g., KNN)\n",
    "def impute_values(data):\n",
    "    \n",
    "    # get variables with missing values\n",
    "    df = data.copy()\n",
    "    m = df.isnull().sum()/len(df)\n",
    "    variables = list(m[m>0.00].index)\n",
    "    \n",
    "    # impute \n",
    "    for v in variables:\n",
    "        if (df[v].dtypes == np.dtype('int')) | (df[v].dtypes == np.dtype('float')):\n",
    "            df[v].fillna(df[v].median(), inplace=True) # median\n",
    "        elif (df[v].dtypes == np.dtype('O')):\n",
    "            df.loc[df[v].isnull(), v] = df[v].mode().values[0] # most frequent category\n",
    "    return df"
   ]
  },
  {
   "cell_type": "code",
   "execution_count": 416,
   "metadata": {},
   "outputs": [],
   "source": [
    "# impute values\n",
    "imp_train = impute_values(train)"
   ]
  },
  {
   "cell_type": "code",
   "execution_count": 417,
   "metadata": {},
   "outputs": [],
   "source": [
    "# function to create dummies\n",
    "def get_dummies(data, variables):\n",
    "    df = data.copy()\n",
    "    dd = pd.DataFrame()\n",
    "    for v in variables: \n",
    "        pd.get_dummies\n",
    "        dd = pd.concat([dd, pd.get_dummies(df.loc[:,v], drop_first=True, prefix=v)], axis=1, )\n",
    "\n",
    "    final = pd.concat([df.drop(dummies, axis=1), dd], axis=1)\n",
    "    final.columns = final.columns.str.replace('\\+|\\.|\\s', '_').str.replace('_+', '_').str.lower()\n",
    "    return final"
   ]
  },
  {
   "cell_type": "code",
   "execution_count": 418,
   "metadata": {},
   "outputs": [],
   "source": [
    "# create dummies\n",
    "variables = ['cit', 'dear', 'deye', 'esr', 'hicov', 'mar', \n",
    "          'race', 'schl', 'sex', 'st', 'vet', 'puma'] # I have to include geographic variables\n",
    "clean_train = get_dummies(imp_train, variables)"
   ]
  },
  {
   "cell_type": "code",
   "execution_count": 419,
   "metadata": {},
   "outputs": [],
   "source": [
    "# check missing records\n",
    "m_train = clean_train.isnull().sum()/len(clean_train)\n",
    "m_train[m_train>0] # no missing data"
   ]
  },
  {
   "cell_type": "code",
   "execution_count": 424,
   "metadata": {},
   "outputs": [
    {
     "data": {
      "text/plain": [
       "(391282, 371)"
      ]
     },
     "execution_count": 424,
     "metadata": {},
     "output_type": "execute_result"
    }
   ],
   "source": [
    "clean_train.shape # 371 features"
   ]
  },
  {
   "cell_type": "code",
   "execution_count": 438,
   "metadata": {},
   "outputs": [],
   "source": [
    "# reverse coding\n",
    "clean_labels = pd.Series([0 if i==1 else 1 for i in clean_train['hicov_without_healthcare']])"
   ]
  },
  {
   "cell_type": "code",
   "execution_count": 439,
   "metadata": {},
   "outputs": [],
   "source": [
    "clean_train.drop(['id', 'hicov_without_healthcare'], axis=1, inplace=True)"
   ]
  },
  {
   "cell_type": "markdown",
   "metadata": {},
   "source": [
    "# Create validation set"
   ]
  },
  {
   "cell_type": "markdown",
   "metadata": {},
   "source": [
    "The training set has enough data to create a validation set"
   ]
  },
  {
   "cell_type": "code",
   "execution_count": 440,
   "metadata": {},
   "outputs": [],
   "source": [
    "from sklearn.model_selection import train_test_split"
   ]
  },
  {
   "cell_type": "code",
   "execution_count": 441,
   "metadata": {},
   "outputs": [],
   "source": [
    "X_train, X_test, y_train, y_test = train_test_split(clean_train, clean_labels, test_size=0.20, \n",
    "                                                    random_state=123)"
   ]
  },
  {
   "cell_type": "markdown",
   "metadata": {},
   "source": [
    "### Logistic regression"
   ]
  },
  {
   "cell_type": "code",
   "execution_count": 443,
   "metadata": {},
   "outputs": [],
   "source": [
    "from sklearn.linear_model import LogisticRegression\n",
    "from sklearn.model_selection import cross_val_score"
   ]
  },
  {
   "cell_type": "code",
   "execution_count": 453,
   "metadata": {},
   "outputs": [],
   "source": [
    "log_reg = LogisticRegression()"
   ]
  },
  {
   "cell_type": "code",
   "execution_count": 450,
   "metadata": {},
   "outputs": [],
   "source": [
    "log_reg_scores = cross_val_score(log_reg, X_train, y_train, cv=5, scoring='f1')"
   ]
  },
  {
   "cell_type": "code",
   "execution_count": 452,
   "metadata": {},
   "outputs": [
    {
     "data": {
      "text/plain": [
       "array([ 0.96752808,  0.96753606,  0.96753606,  0.96753606,  0.96753552])"
      ]
     },
     "execution_count": 452,
     "metadata": {},
     "output_type": "execute_result"
    }
   ],
   "source": [
    "log_reg_scores"
   ]
  },
  {
   "cell_type": "markdown",
   "metadata": {},
   "source": [
    "# Random Forest"
   ]
  },
  {
   "cell_type": "markdown",
   "metadata": {},
   "source": []
  },
  {
   "cell_type": "markdown",
   "metadata": {},
   "source": [
    "# AdaBoost"
   ]
  },
  {
   "cell_type": "code",
   "execution_count": 349,
   "metadata": {},
   "outputs": [],
   "source": [
    "import xgboost as xgb\n",
    "import sklearn.metrics as met"
   ]
  },
  {
   "cell_type": "code",
   "execution_count": 270,
   "metadata": {},
   "outputs": [],
   "source": [
    "churn_dmatrix = xgb.DMatrix(data=X_train, label=y_train)"
   ]
  },
  {
   "cell_type": "code",
   "execution_count": 370,
   "metadata": {},
   "outputs": [],
   "source": [
    "params = {'objective':'binary:logistic', 'max_depth':10, 'colsample_bytree': 0.3,\n",
    "          'learning_rate': 0.1, 'n_estimators':1000}"
   ]
  },
  {
   "cell_type": "code",
   "execution_count": 344,
   "metadata": {},
   "outputs": [],
   "source": [
    "cv_results = xgb.cv(dtrain=churn_dmatrix, params=params, nfold=10, num_boost_round=10,\n",
    "                   metrics='auc', as_pandas=True, seed=123)"
   ]
  },
  {
   "cell_type": "code",
   "execution_count": 386,
   "metadata": {},
   "outputs": [],
   "source": [
    "clt = xgb.XGBClassifier(n_estimators=1000, objective='binary:logistic')"
   ]
  },
  {
   "cell_type": "code",
   "execution_count": 387,
   "metadata": {},
   "outputs": [
    {
     "data": {
      "text/plain": [
       "XGBClassifier(base_score=0.5, booster='gbtree', colsample_bylevel=1,\n",
       "       colsample_bytree=1, gamma=0, learning_rate=0.1, max_delta_step=0,\n",
       "       max_depth=3, min_child_weight=1, missing=None, n_estimators=1000,\n",
       "       n_jobs=1, nthread=None, objective='binary:logistic', random_state=0,\n",
       "       reg_alpha=0, reg_lambda=1, scale_pos_weight=1, seed=None,\n",
       "       silent=True, subsample=1)"
      ]
     },
     "execution_count": 387,
     "metadata": {},
     "output_type": "execute_result"
    }
   ],
   "source": [
    "clt.fit(X_train, y_train)"
   ]
  },
  {
   "cell_type": "code",
   "execution_count": 391,
   "metadata": {},
   "outputs": [],
   "source": [
    "pred = clt.predict(X_train)"
   ]
  },
  {
   "cell_type": "code",
   "execution_count": 392,
   "metadata": {},
   "outputs": [
    {
     "data": {
      "text/plain": [
       "2281"
      ]
     },
     "execution_count": 392,
     "metadata": {},
     "output_type": "execute_result"
    }
   ],
   "source": [
    "sum(pred)"
   ]
  },
  {
   "cell_type": "code",
   "execution_count": 393,
   "metadata": {},
   "outputs": [
    {
     "data": {
      "text/plain": [
       "0.12737287749806528"
      ]
     },
     "execution_count": 393,
     "metadata": {},
     "output_type": "execute_result"
    }
   ],
   "source": [
    "met.f1_score(y_train, pred)"
   ]
  },
  {
   "cell_type": "code",
   "execution_count": 346,
   "metadata": {},
   "outputs": [
    {
     "name": "stdout",
     "output_type": "stream",
     "text": [
      "AUC: 0.814038\n"
     ]
    }
   ],
   "source": [
    "print('AUC: %f' % (cv_results['test-auc-mean'].iloc[-1]))"
   ]
  }
 ],
 "metadata": {
  "kernelspec": {
   "display_name": "Python [default]",
   "language": "python",
   "name": "python3"
  },
  "language_info": {
   "codemirror_mode": {
    "name": "ipython",
    "version": 3
   },
   "file_extension": ".py",
   "mimetype": "text/x-python",
   "name": "python",
   "nbconvert_exporter": "python",
   "pygments_lexer": "ipython3",
   "version": "3.6.1"
  }
 },
 "nbformat": 4,
 "nbformat_minor": 2
}

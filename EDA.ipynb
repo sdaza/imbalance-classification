{
 "cells": [
  {
   "cell_type": "markdown",
   "metadata": {},
   "source": [
    "# Classification Problem \n",
    "\n",
    "## Load data"
   ]
  },
  {
   "cell_type": "code",
   "execution_count": 156,
   "metadata": {},
   "outputs": [],
   "source": [
    "%matplotlib inline\n",
    "import numpy as np\n",
    "import pandas as pd\n",
    "import matplotlib.pyplot as plt\n",
    "import seaborn as sns\n",
    "from sklearn.svm import LinearSVC\n",
    "from sklearn.model_selection import train_test_split\n",
    "from sklearn import metrics as met\n",
    "from imblearn.metrics import classification_report_imbalanced\n",
    "from imblearn import over_sampling as os\n",
    "from imblearn import under_sampling as us\n",
    "from imblearn import pipeline as pl\n",
    "from imblearn.combine import SMOTEENN\n",
    "import scikitplot as skplt\n",
    "import matplotlib.pyplot as plt\n",
    "import re\n",
    "plt.style.use('seaborn')\n",
    "import seaborn as sns\n",
    "sns.set(style=\"darkgrid\", color_codes=True)"
   ]
  },
  {
   "cell_type": "code",
   "execution_count": 157,
   "metadata": {},
   "outputs": [
    {
     "data": {
      "text/plain": [
       "(391282, 20)"
      ]
     },
     "execution_count": 157,
     "metadata": {},
     "output_type": "execute_result"
    }
   ],
   "source": [
    "train = pd.read_json('train.json')\n",
    "train.shape"
   ]
  },
  {
   "cell_type": "code",
   "execution_count": 158,
   "metadata": {},
   "outputs": [
    {
     "data": {
      "text/plain": [
       "(97405, 19)"
      ]
     },
     "execution_count": 158,
     "metadata": {},
     "output_type": "execute_result"
    }
   ],
   "source": [
    "test = pd.read_json('test.json') # 20% \n",
    "test.shape"
   ]
  },
  {
   "cell_type": "code",
   "execution_count": 159,
   "metadata": {},
   "outputs": [
    {
     "data": {
      "text/plain": [
       "Index(['agep', 'cit', 'dear', 'deye', 'esr', 'hicov', 'id', 'intp', 'mar',\n",
       "       'pap', 'pincp', 'povpip', 'puma', 'race', 'retp', 'schl', 'sex', 'st',\n",
       "       'vet', 'wkhp'],\n",
       "      dtype='object')"
      ]
     },
     "execution_count": 159,
     "metadata": {},
     "output_type": "execute_result"
    }
   ],
   "source": [
    "train.columns"
   ]
  },
  {
   "cell_type": "markdown",
   "metadata": {},
   "source": [
    "### EDA"
   ]
  },
  {
   "cell_type": "code",
   "execution_count": 160,
   "metadata": {},
   "outputs": [
    {
     "data": {
      "text/html": [
       "<div>\n",
       "<style>\n",
       "    .dataframe thead tr:only-child th {\n",
       "        text-align: right;\n",
       "    }\n",
       "\n",
       "    .dataframe thead th {\n",
       "        text-align: left;\n",
       "    }\n",
       "\n",
       "    .dataframe tbody tr th {\n",
       "        vertical-align: top;\n",
       "    }\n",
       "</style>\n",
       "<table border=\"1\" class=\"dataframe\">\n",
       "  <thead>\n",
       "    <tr style=\"text-align: right;\">\n",
       "      <th></th>\n",
       "      <th>agep</th>\n",
       "      <th>cit</th>\n",
       "      <th>dear</th>\n",
       "      <th>deye</th>\n",
       "      <th>esr</th>\n",
       "      <th>hicov</th>\n",
       "      <th>id</th>\n",
       "      <th>intp</th>\n",
       "      <th>mar</th>\n",
       "      <th>pap</th>\n",
       "      <th>pincp</th>\n",
       "      <th>povpip</th>\n",
       "      <th>puma</th>\n",
       "      <th>race</th>\n",
       "      <th>retp</th>\n",
       "      <th>schl</th>\n",
       "      <th>sex</th>\n",
       "      <th>st</th>\n",
       "      <th>vet</th>\n",
       "      <th>wkhp</th>\n",
       "    </tr>\n",
       "  </thead>\n",
       "  <tbody>\n",
       "    <tr>\n",
       "      <th>0</th>\n",
       "      <td>75</td>\n",
       "      <td>Citizen</td>\n",
       "      <td>No</td>\n",
       "      <td>No</td>\n",
       "      <td>Not in labor force</td>\n",
       "      <td>With Healthcare</td>\n",
       "      <td>2</td>\n",
       "      <td>0.0</td>\n",
       "      <td>Married</td>\n",
       "      <td>0.0</td>\n",
       "      <td>34000.0</td>\n",
       "      <td>376.0</td>\n",
       "      <td>10702</td>\n",
       "      <td>Two or more</td>\n",
       "      <td>24000.0</td>\n",
       "      <td>HS Degree</td>\n",
       "      <td>Male</td>\n",
       "      <td>6</td>\n",
       "      <td>Veteran</td>\n",
       "      <td>NaN</td>\n",
       "    </tr>\n",
       "    <tr>\n",
       "      <th>1</th>\n",
       "      <td>50</td>\n",
       "      <td>Citizen</td>\n",
       "      <td>No</td>\n",
       "      <td>No</td>\n",
       "      <td>Employed</td>\n",
       "      <td>With Healthcare</td>\n",
       "      <td>3</td>\n",
       "      <td>0.0</td>\n",
       "      <td>Married</td>\n",
       "      <td>0.0</td>\n",
       "      <td>14300.0</td>\n",
       "      <td>222.0</td>\n",
       "      <td>6514</td>\n",
       "      <td>Two or more</td>\n",
       "      <td>0.0</td>\n",
       "      <td>HS Degree</td>\n",
       "      <td>Female</td>\n",
       "      <td>6</td>\n",
       "      <td>Not Veteran</td>\n",
       "      <td>15.0</td>\n",
       "    </tr>\n",
       "    <tr>\n",
       "      <th>2</th>\n",
       "      <td>49</td>\n",
       "      <td>Citizen</td>\n",
       "      <td>No</td>\n",
       "      <td>No</td>\n",
       "      <td>Employed</td>\n",
       "      <td>With Healthcare</td>\n",
       "      <td>4</td>\n",
       "      <td>0.0</td>\n",
       "      <td>Married</td>\n",
       "      <td>0.0</td>\n",
       "      <td>15700.0</td>\n",
       "      <td>222.0</td>\n",
       "      <td>6514</td>\n",
       "      <td>White alone</td>\n",
       "      <td>0.0</td>\n",
       "      <td>HS Degree</td>\n",
       "      <td>Male</td>\n",
       "      <td>6</td>\n",
       "      <td>Not Veteran</td>\n",
       "      <td>35.0</td>\n",
       "    </tr>\n",
       "    <tr>\n",
       "      <th>3</th>\n",
       "      <td>28</td>\n",
       "      <td>Citizen</td>\n",
       "      <td>No</td>\n",
       "      <td>No</td>\n",
       "      <td>Employed</td>\n",
       "      <td>With Healthcare</td>\n",
       "      <td>6</td>\n",
       "      <td>0.0</td>\n",
       "      <td>Married</td>\n",
       "      <td>0.0</td>\n",
       "      <td>94000.0</td>\n",
       "      <td>501.0</td>\n",
       "      <td>3759</td>\n",
       "      <td>White alone</td>\n",
       "      <td>0.0</td>\n",
       "      <td>Undergrad. Degree</td>\n",
       "      <td>Female</td>\n",
       "      <td>6</td>\n",
       "      <td>Not Veteran</td>\n",
       "      <td>40.0</td>\n",
       "    </tr>\n",
       "  </tbody>\n",
       "</table>\n",
       "</div>"
      ],
      "text/plain": [
       "   agep      cit dear deye                 esr            hicov  id  intp  \\\n",
       "0    75  Citizen   No   No  Not in labor force  With Healthcare   2   0.0   \n",
       "1    50  Citizen   No   No            Employed  With Healthcare   3   0.0   \n",
       "2    49  Citizen   No   No            Employed  With Healthcare   4   0.0   \n",
       "3    28  Citizen   No   No            Employed  With Healthcare   6   0.0   \n",
       "\n",
       "       mar  pap    pincp  povpip   puma         race     retp  \\\n",
       "0  Married  0.0  34000.0   376.0  10702  Two or more  24000.0   \n",
       "1  Married  0.0  14300.0   222.0   6514  Two or more      0.0   \n",
       "2  Married  0.0  15700.0   222.0   6514  White alone      0.0   \n",
       "3  Married  0.0  94000.0   501.0   3759  White alone      0.0   \n",
       "\n",
       "                schl     sex  st          vet  wkhp  \n",
       "0          HS Degree    Male   6      Veteran   NaN  \n",
       "1          HS Degree  Female   6  Not Veteran  15.0  \n",
       "2          HS Degree    Male   6  Not Veteran  35.0  \n",
       "3  Undergrad. Degree  Female   6  Not Veteran  40.0  "
      ]
     },
     "execution_count": 160,
     "metadata": {},
     "output_type": "execute_result"
    }
   ],
   "source": [
    "train.head(n=4)"
   ]
  },
  {
   "cell_type": "code",
   "execution_count": 161,
   "metadata": {},
   "outputs": [
    {
     "data": {
      "text/html": [
       "<div>\n",
       "<style>\n",
       "    .dataframe thead tr:only-child th {\n",
       "        text-align: right;\n",
       "    }\n",
       "\n",
       "    .dataframe thead th {\n",
       "        text-align: left;\n",
       "    }\n",
       "\n",
       "    .dataframe tbody tr th {\n",
       "        vertical-align: top;\n",
       "    }\n",
       "</style>\n",
       "<table border=\"1\" class=\"dataframe\">\n",
       "  <thead>\n",
       "    <tr style=\"text-align: right;\">\n",
       "      <th></th>\n",
       "      <th>agep</th>\n",
       "      <th>cit</th>\n",
       "      <th>dear</th>\n",
       "      <th>deye</th>\n",
       "      <th>esr</th>\n",
       "      <th>id</th>\n",
       "      <th>intp</th>\n",
       "      <th>mar</th>\n",
       "      <th>pap</th>\n",
       "      <th>pincp</th>\n",
       "      <th>povpip</th>\n",
       "      <th>puma</th>\n",
       "      <th>race</th>\n",
       "      <th>retp</th>\n",
       "      <th>schl</th>\n",
       "      <th>sex</th>\n",
       "      <th>st</th>\n",
       "      <th>vet</th>\n",
       "      <th>wkhp</th>\n",
       "    </tr>\n",
       "  </thead>\n",
       "  <tbody>\n",
       "    <tr>\n",
       "      <th>0</th>\n",
       "      <td>68</td>\n",
       "      <td>Citizen</td>\n",
       "      <td>No</td>\n",
       "      <td>No</td>\n",
       "      <td>Not in labor force</td>\n",
       "      <td>1</td>\n",
       "      <td>0.0</td>\n",
       "      <td>Married</td>\n",
       "      <td>0.0</td>\n",
       "      <td>20000.0</td>\n",
       "      <td>376.0</td>\n",
       "      <td>10702</td>\n",
       "      <td>Two or more</td>\n",
       "      <td>0.0</td>\n",
       "      <td>HS Degree</td>\n",
       "      <td>Female</td>\n",
       "      <td>6</td>\n",
       "      <td>Not Veteran</td>\n",
       "      <td>NaN</td>\n",
       "    </tr>\n",
       "    <tr>\n",
       "      <th>1</th>\n",
       "      <td>22</td>\n",
       "      <td>Citizen</td>\n",
       "      <td>No</td>\n",
       "      <td>No</td>\n",
       "      <td>Unemployed</td>\n",
       "      <td>5</td>\n",
       "      <td>0.0</td>\n",
       "      <td>Never Married</td>\n",
       "      <td>0.0</td>\n",
       "      <td>11500.0</td>\n",
       "      <td>222.0</td>\n",
       "      <td>6514</td>\n",
       "      <td>Two or more</td>\n",
       "      <td>0.0</td>\n",
       "      <td>HS Degree</td>\n",
       "      <td>Male</td>\n",
       "      <td>6</td>\n",
       "      <td>Not Veteran</td>\n",
       "      <td>12.0</td>\n",
       "    </tr>\n",
       "    <tr>\n",
       "      <th>2</th>\n",
       "      <td>32</td>\n",
       "      <td>Citizen</td>\n",
       "      <td>No</td>\n",
       "      <td>No</td>\n",
       "      <td>Not in labor force</td>\n",
       "      <td>9</td>\n",
       "      <td>84000.0</td>\n",
       "      <td>Married</td>\n",
       "      <td>0.0</td>\n",
       "      <td>84000.0</td>\n",
       "      <td>501.0</td>\n",
       "      <td>5917</td>\n",
       "      <td>White alone</td>\n",
       "      <td>0.0</td>\n",
       "      <td>Grad. Degree</td>\n",
       "      <td>Female</td>\n",
       "      <td>6</td>\n",
       "      <td>Not Veteran</td>\n",
       "      <td>NaN</td>\n",
       "    </tr>\n",
       "    <tr>\n",
       "      <th>3</th>\n",
       "      <td>42</td>\n",
       "      <td>Not citizen</td>\n",
       "      <td>Yes</td>\n",
       "      <td>No</td>\n",
       "      <td>Employed</td>\n",
       "      <td>22</td>\n",
       "      <td>0.0</td>\n",
       "      <td>Married</td>\n",
       "      <td>0.0</td>\n",
       "      <td>13000.0</td>\n",
       "      <td>145.0</td>\n",
       "      <td>10703</td>\n",
       "      <td>White alone</td>\n",
       "      <td>0.0</td>\n",
       "      <td>Less than HS</td>\n",
       "      <td>Male</td>\n",
       "      <td>6</td>\n",
       "      <td>Not Veteran</td>\n",
       "      <td>30.0</td>\n",
       "    </tr>\n",
       "  </tbody>\n",
       "</table>\n",
       "</div>"
      ],
      "text/plain": [
       "   agep          cit dear deye                 esr  id     intp  \\\n",
       "0    68      Citizen   No   No  Not in labor force   1      0.0   \n",
       "1    22      Citizen   No   No          Unemployed   5      0.0   \n",
       "2    32      Citizen   No   No  Not in labor force   9  84000.0   \n",
       "3    42  Not citizen  Yes   No            Employed  22      0.0   \n",
       "\n",
       "             mar  pap    pincp  povpip   puma         race  retp  \\\n",
       "0        Married  0.0  20000.0   376.0  10702  Two or more   0.0   \n",
       "1  Never Married  0.0  11500.0   222.0   6514  Two or more   0.0   \n",
       "2        Married  0.0  84000.0   501.0   5917  White alone   0.0   \n",
       "3        Married  0.0  13000.0   145.0  10703  White alone   0.0   \n",
       "\n",
       "           schl     sex  st          vet  wkhp  \n",
       "0     HS Degree  Female   6  Not Veteran   NaN  \n",
       "1     HS Degree    Male   6  Not Veteran  12.0  \n",
       "2  Grad. Degree  Female   6  Not Veteran   NaN  \n",
       "3  Less than HS    Male   6  Not Veteran  30.0  "
      ]
     },
     "execution_count": 161,
     "metadata": {},
     "output_type": "execute_result"
    }
   ],
   "source": [
    "test.head(n=4)"
   ]
  },
  {
   "cell_type": "markdown",
   "metadata": {},
   "source": [
    "This is a imbalance classification problem: those without health care are only 6% of the training set. "
   ]
  },
  {
   "cell_type": "code",
   "execution_count": 162,
   "metadata": {},
   "outputs": [],
   "source": [
    "train['label'] = [1 if i== 'Without Healthcare' else 0 for i in train['hicov']]"
   ]
  },
  {
   "cell_type": "code",
   "execution_count": 163,
   "metadata": {},
   "outputs": [],
   "source": [
    "# sns.barplot(y='label', data=train, ci=None);"
   ]
  },
  {
   "cell_type": "code",
   "execution_count": 164,
   "metadata": {},
   "outputs": [
    {
     "data": {
      "image/png": "[encoded data removed]",
      "text/plain": [
       "<matplotlib.figure.Figure at 0x11b02e240>"
      ]
     },
     "metadata": {},
     "output_type": "display_data"
    }
   ],
   "source": [
    "sns.barplot(y='label', x='st', ci=None,data=train);"
   ]
  },
  {
   "cell_type": "code",
   "execution_count": 165,
   "metadata": {},
   "outputs": [
    {
     "data": {
      "image/png": "[encoded data removed]",
      "text/plain": [
       "<matplotlib.figure.Figure at 0x11b055128>"
      ]
     },
     "metadata": {},
     "output_type": "display_data"
    }
   ],
   "source": [
    "sns.barplot(y='label', x='cit', ci=None, data=train);"
   ]
  },
  {
   "cell_type": "code",
   "execution_count": 166,
   "metadata": {},
   "outputs": [
    {
     "data": {
      "image/png": "[encoded data removed]",
      "text/plain": [
       "<matplotlib.figure.Figure at 0x11b0330f0>"
      ]
     },
     "metadata": {},
     "output_type": "display_data"
    }
   ],
   "source": [
    "sns.barplot(y='label', x='mar', ci=None, data=train);"
   ]
  },
  {
   "cell_type": "code",
   "execution_count": 167,
   "metadata": {},
   "outputs": [
    {
     "data": {
      "image/png": "[encoded data removed]",
      "text/plain": [
       "<matplotlib.figure.Figure at 0x11b095f60>"
      ]
     },
     "metadata": {},
     "output_type": "display_data"
    }
   ],
   "source": [
    "sns.barplot(y='label', x='esr', ci=None, data=train);"
   ]
  },
  {
   "cell_type": "code",
   "execution_count": 168,
   "metadata": {},
   "outputs": [
    {
     "data": {
      "image/png": "[encoded data removed]",
      "text/plain": [
       "<matplotlib.figure.Figure at 0x11b0bfc50>"
      ]
     },
     "metadata": {},
     "output_type": "display_data"
    }
   ],
   "source": [
    "sns.barplot(y='label', x='schl', ci=None, data=train);"
   ]
  },
  {
   "cell_type": "code",
   "execution_count": 169,
   "metadata": {},
   "outputs": [
    {
     "data": {
      "image/png": "[encoded data removed]",
      "text/plain": [
       "<matplotlib.figure.Figure at 0x11b058dd8>"
      ]
     },
     "metadata": {},
     "output_type": "display_data"
    }
   ],
   "source": [
    "sns.barplot(y='label', x='vet', ci=None, data=train);"
   ]
  },
  {
   "cell_type": "code",
   "execution_count": 170,
   "metadata": {},
   "outputs": [
    {
     "data": {
      "text/plain": [
       "(array([0, 1, 2, 3, 4, 5, 6, 7, 8]), <a list of 9 Text xticklabel objects>)"
      ]
     },
     "execution_count": 170,
     "metadata": {},
     "output_type": "execute_result"
    },
    {
     "data": {
      "image/png": "[encoded data removed]",
      "text/plain": [
       "<matplotlib.figure.Figure at 0x11b0d7c88>"
      ]
     },
     "metadata": {},
     "output_type": "display_data"
    }
   ],
   "source": [
    "sns.barplot(y='label', x='race', hue='cit', ci=None, data=train);\n",
    "plt.xticks(rotation='vertical')"
   ]
  },
  {
   "cell_type": "code",
   "execution_count": 171,
   "metadata": {},
   "outputs": [
    {
     "data": {
      "image/png": "[encoded data removed]",
      "text/plain": [
       "<matplotlib.figure.Figure at 0x11b0860b8>"
      ]
     },
     "metadata": {},
     "output_type": "display_data"
    }
   ],
   "source": [
    "sns.barplot(y='label', x='dear', ci=None, data=train);"
   ]
  },
  {
   "cell_type": "code",
   "execution_count": 172,
   "metadata": {},
   "outputs": [
    {
     "data": {
      "image/png": "[encoded data removed]",
      "text/plain": [
       "<matplotlib.figure.Figure at 0x11b089a58>"
      ]
     },
     "metadata": {},
     "output_type": "display_data"
    }
   ],
   "source": [
    "sns.barplot(y='label', x='deye', ci=None, data=train);"
   ]
  },
  {
   "cell_type": "code",
   "execution_count": 173,
   "metadata": {},
   "outputs": [],
   "source": [
    "def log_with_zeros(values):\n",
    "    return [np.log(i) if i >0.0 else np.log(0.01) for i in values]"
   ]
  },
  {
   "cell_type": "code",
   "execution_count": 174,
   "metadata": {},
   "outputs": [
    {
     "data": {
      "image/png": "[encoded data removed]",
      "text/plain": [
       "<matplotlib.figure.Figure at 0x11b046eb8>"
      ]
     },
     "metadata": {},
     "output_type": "display_data"
    }
   ],
   "source": [
    "sns.kdeplot(log_with_zeros(train.loc[(train.label==1) & (train.pincp.notnull()), 'pincp']), label='1')\n",
    "sns.kdeplot(log_with_zeros(train.loc[(train.label==0) & (train.pincp.notnull()), 'pincp']), label='0')\n",
    "plt.title('log income');"
   ]
  },
  {
   "cell_type": "code",
   "execution_count": 175,
   "metadata": {},
   "outputs": [
    {
     "data": {
      "image/png": "[encoded data removed]",
      "text/plain": [
       "<matplotlib.figure.Figure at 0x11b0e44a8>"
      ]
     },
     "metadata": {},
     "output_type": "display_data"
    }
   ],
   "source": [
    "sns.kdeplot(train.loc[(train.label==1) & (train.agep.notnull()), 'agep'], label='1')\n",
    "sns.kdeplot(train.loc[(train.label==0) & (train.agep.notnull()), 'agep'], label='0')\n",
    "plt.title('age');"
   ]
  },
  {
   "cell_type": "code",
   "execution_count": 176,
   "metadata": {},
   "outputs": [],
   "source": [
    "# recode age\n",
    "train.loc[train.agep.isin(list(range(0,20))), 'age'] = '16-20'\n",
    "train.loc[train.agep.isin(list(range(20,30))), 'age'] ='20-30'\n",
    "train.loc[train.agep.isin(list(range(30,40))), 'age'] = '30-40'\n",
    "train.loc[train.agep.isin(list(range(40,50))), 'age'] = '40-50'\n",
    "train.loc[train.agep.isin(list(range(50,60))), 'age'] = '50-60'\n",
    "train.loc[train.agep.isin(list(range(60,100))), 'age'] = '60+'"
   ]
  },
  {
   "cell_type": "code",
   "execution_count": 177,
   "metadata": {},
   "outputs": [
    {
     "data": {
      "image/png": "[encoded data removed]",
      "text/plain": [
       "<matplotlib.figure.Figure at 0x11ae8ae48>"
      ]
     },
     "metadata": {},
     "output_type": "display_data"
    }
   ],
   "source": [
    "sns.barplot(y='label', x='age', ci=None, data=train);"
   ]
  },
  {
   "cell_type": "code",
   "execution_count": 178,
   "metadata": {},
   "outputs": [
    {
     "data": {
      "image/png": "[encoded data removed]",
      "text/plain": [
       "<matplotlib.figure.Figure at 0x11b0600f0>"
      ]
     },
     "metadata": {},
     "output_type": "display_data"
    }
   ],
   "source": [
    "sns.kdeplot(train.loc[(train.label==1) & (train.pincp.notnull()), 'pincp'], label='1')\n",
    "sns.kdeplot(train.loc[(train.label==0) & (train.pincp.notnull()), 'pincp'], label='0')\n",
    "plt.title('log income');"
   ]
  },
  {
   "cell_type": "code",
   "execution_count": 179,
   "metadata": {},
   "outputs": [
    {
     "data": {
      "image/png": "[encoded data removed]",
      "text/plain": [
       "<matplotlib.figure.Figure at 0x11b089dd8>"
      ]
     },
     "metadata": {},
     "output_type": "display_data"
    }
   ],
   "source": [
    "sns.distplot(train.loc[(train.label==1) & (train.povpip.notnull()), 'povpip'], label='1', kde=False)\n",
    "sns.distplot(train.loc[(train.label==0) & (train.povpip.notnull()), 'povpip'], label='0', kde=False)\n",
    "plt.title('log poverty');"
   ]
  },
  {
   "cell_type": "code",
   "execution_count": 180,
   "metadata": {},
   "outputs": [],
   "source": [
    "# recode poverty ratio\n",
    "train['pov'] = [1 if i<=100.0 else 0 for i in train['povpip']]"
   ]
  },
  {
   "cell_type": "code",
   "execution_count": 181,
   "metadata": {},
   "outputs": [
    {
     "data": {
      "image/png": "[encoded data removed]",
      "text/plain": [
       "<matplotlib.figure.Figure at 0x11aea7438>"
      ]
     },
     "metadata": {},
     "output_type": "display_data"
    }
   ],
   "source": [
    "sns.barplot(y='label', x='pov', ci=None, data=train);"
   ]
  },
  {
   "cell_type": "markdown",
   "metadata": {},
   "source": [
    "The poverty ratio is a truncated variable (at 501), I would just dichotomize that variable. "
   ]
  },
  {
   "cell_type": "markdown",
   "metadata": {},
   "source": [
    "### Missing data"
   ]
  },
  {
   "cell_type": "code",
   "execution_count": 182,
   "metadata": {},
   "outputs": [],
   "source": [
    "def missing_data(df): \n",
    "    m = df.isnull().sum()/len(df)\n",
    "    return m[m>0.00].sort_values(ascending=False)"
   ]
  },
  {
   "cell_type": "code",
   "execution_count": 183,
   "metadata": {},
   "outputs": [
    {
     "data": {
      "text/plain": [
       "wkhp      0.488292\n",
       "esr       0.183604\n",
       "retp      0.171086\n",
       "pincp     0.171086\n",
       "pap       0.171086\n",
       "intp      0.171086\n",
       "povpip    0.033454\n",
       "schl      0.030592\n",
       "dtype: float64"
      ]
     },
     "execution_count": 183,
     "metadata": {},
     "output_type": "execute_result"
    }
   ],
   "source": [
    "missing_data(train)"
   ]
  },
  {
   "cell_type": "code",
   "execution_count": 184,
   "metadata": {},
   "outputs": [
    {
     "data": {
      "text/plain": [
       "wkhp      0.486423\n",
       "esr       0.183492\n",
       "retp      0.171172\n",
       "pincp     0.171172\n",
       "pap       0.171172\n",
       "intp      0.171172\n",
       "povpip    0.033386\n",
       "schl      0.030204\n",
       "dtype: float64"
      ]
     },
     "execution_count": 184,
     "metadata": {},
     "output_type": "execute_result"
    }
   ],
   "source": [
    "missing_data(test)"
   ]
  },
  {
   "cell_type": "markdown",
   "metadata": {},
   "source": [
    "Working hours might be related to workging status, so if person isn't working I can impute 0 hours."
   ]
  },
  {
   "cell_type": "code",
   "execution_count": 185,
   "metadata": {},
   "outputs": [
    {
     "data": {
      "text/html": [
       "<div>\n",
       "<style>\n",
       "    .dataframe thead tr:only-child th {\n",
       "        text-align: right;\n",
       "    }\n",
       "\n",
       "    .dataframe thead th {\n",
       "        text-align: left;\n",
       "    }\n",
       "\n",
       "    .dataframe tbody tr th {\n",
       "        vertical-align: top;\n",
       "    }\n",
       "</style>\n",
       "<table border=\"1\" class=\"dataframe\">\n",
       "  <thead>\n",
       "    <tr style=\"text-align: right;\">\n",
       "      <th>wkhp</th>\n",
       "      <th>False</th>\n",
       "      <th>True</th>\n",
       "    </tr>\n",
       "    <tr>\n",
       "      <th>esr</th>\n",
       "      <th></th>\n",
       "      <th></th>\n",
       "    </tr>\n",
       "  </thead>\n",
       "  <tbody>\n",
       "    <tr>\n",
       "      <th>Employed</th>\n",
       "      <td>180553</td>\n",
       "      <td>0</td>\n",
       "    </tr>\n",
       "    <tr>\n",
       "      <th>Not in labor force</th>\n",
       "      <td>13645</td>\n",
       "      <td>113751</td>\n",
       "    </tr>\n",
       "    <tr>\n",
       "      <th>Unemployed</th>\n",
       "      <td>6024</td>\n",
       "      <td>5468</td>\n",
       "    </tr>\n",
       "  </tbody>\n",
       "</table>\n",
       "</div>"
      ],
      "text/plain": [
       "wkhp                 False   True \n",
       "esr                               \n",
       "Employed            180553       0\n",
       "Not in labor force   13645  113751\n",
       "Unemployed            6024    5468"
      ]
     },
     "execution_count": 185,
     "metadata": {},
     "output_type": "execute_result"
    }
   ],
   "source": [
    "pd.crosstab(train['esr'], train['wkhp'].isnull())"
   ]
  },
  {
   "cell_type": "code",
   "execution_count": 186,
   "metadata": {},
   "outputs": [
    {
     "data": {
      "text/html": [
       "<div>\n",
       "<style>\n",
       "    .dataframe thead tr:only-child th {\n",
       "        text-align: right;\n",
       "    }\n",
       "\n",
       "    .dataframe thead th {\n",
       "        text-align: left;\n",
       "    }\n",
       "\n",
       "    .dataframe tbody tr th {\n",
       "        vertical-align: top;\n",
       "    }\n",
       "</style>\n",
       "<table border=\"1\" class=\"dataframe\">\n",
       "  <thead>\n",
       "    <tr style=\"text-align: right;\">\n",
       "      <th>wkhp</th>\n",
       "      <th>False</th>\n",
       "      <th>True</th>\n",
       "    </tr>\n",
       "    <tr>\n",
       "      <th>esr</th>\n",
       "      <th></th>\n",
       "      <th></th>\n",
       "    </tr>\n",
       "  </thead>\n",
       "  <tbody>\n",
       "    <tr>\n",
       "      <th>Employed</th>\n",
       "      <td>45174</td>\n",
       "      <td>0</td>\n",
       "    </tr>\n",
       "    <tr>\n",
       "      <th>Not in labor force</th>\n",
       "      <td>3365</td>\n",
       "      <td>28178</td>\n",
       "    </tr>\n",
       "    <tr>\n",
       "      <th>Unemployed</th>\n",
       "      <td>1486</td>\n",
       "      <td>1329</td>\n",
       "    </tr>\n",
       "  </tbody>\n",
       "</table>\n",
       "</div>"
      ],
      "text/plain": [
       "wkhp                False  True \n",
       "esr                             \n",
       "Employed            45174      0\n",
       "Not in labor force   3365  28178\n",
       "Unemployed           1486   1329"
      ]
     },
     "execution_count": 186,
     "metadata": {},
     "output_type": "execute_result"
    }
   ],
   "source": [
    "pd.crosstab(test['esr'], test['wkhp'].isnull())"
   ]
  },
  {
   "cell_type": "markdown",
   "metadata": {},
   "source": [
    "It makes sense, most of the people not working hast missing working hours. "
   ]
  },
  {
   "cell_type": "code",
   "execution_count": 187,
   "metadata": {},
   "outputs": [],
   "source": [
    "# impute working hours\n",
    "not_working = ['Not in labor force', 'Unemployed']\n",
    "train.loc[train.esr.isin(not_working) & train.wkhp.isnull(), 'wkhp'] = 0.0\n",
    "test.loc[test.esr.isin(not_working) & test.wkhp.isnull(), 'wkhp'] = 0.0"
   ]
  },
  {
   "cell_type": "code",
   "execution_count": 188,
   "metadata": {},
   "outputs": [
    {
     "data": {
      "image/png": "[encoded data removed]",
      "text/plain": [
       "<matplotlib.figure.Figure at 0x11afd9e10>"
      ]
     },
     "metadata": {},
     "output_type": "display_data"
    }
   ],
   "source": [
    "sns.distplot(train.loc[(train.label==1) & (train.wkhp.notnull()), 'wkhp'], label='1')\n",
    "sns.distplot(train.loc[(train.label==0) & (train.wkhp.notnull()), 'wkhp'], label='0')\n",
    "plt.title('working hours');"
   ]
  },
  {
   "cell_type": "code",
   "execution_count": 189,
   "metadata": {},
   "outputs": [],
   "source": [
    "# recode groups\n",
    "train.loc[train.wkhp==0, 'whours'] = 'not working'\n",
    "train.loc[(train.wkhp>0) & (train.wkhp<21), 'whours'] = 'part-time'\n",
    "train.loc[train.wkhp>=21, 'whours'] = 'full-time'"
   ]
  },
  {
   "cell_type": "code",
   "execution_count": 190,
   "metadata": {},
   "outputs": [
    {
     "data": {
      "image/png": "[encoded data removed]",
      "text/plain": [
       "<matplotlib.figure.Figure at 0x11af57860>"
      ]
     },
     "metadata": {},
     "output_type": "display_data"
    }
   ],
   "source": [
    "sns.barplot(y='label', x='whours', ci=None, data=train);"
   ]
  },
  {
   "cell_type": "code",
   "execution_count": 191,
   "metadata": {},
   "outputs": [
    {
     "data": {
      "text/html": [
       "<div>\n",
       "<style>\n",
       "    .dataframe thead tr:only-child th {\n",
       "        text-align: right;\n",
       "    }\n",
       "\n",
       "    .dataframe thead th {\n",
       "        text-align: left;\n",
       "    }\n",
       "\n",
       "    .dataframe tbody tr th {\n",
       "        vertical-align: top;\n",
       "    }\n",
       "</style>\n",
       "<table border=\"1\" class=\"dataframe\">\n",
       "  <thead>\n",
       "    <tr style=\"text-align: right;\">\n",
       "      <th>esr</th>\n",
       "      <th>Employed</th>\n",
       "      <th>Not in labor force</th>\n",
       "      <th>Unemployed</th>\n",
       "    </tr>\n",
       "    <tr>\n",
       "      <th>whours</th>\n",
       "      <th></th>\n",
       "      <th></th>\n",
       "      <th></th>\n",
       "    </tr>\n",
       "  </thead>\n",
       "  <tbody>\n",
       "    <tr>\n",
       "      <th>full-time</th>\n",
       "      <td>0.885845</td>\n",
       "      <td>0.062412</td>\n",
       "      <td>0.388792</td>\n",
       "    </tr>\n",
       "    <tr>\n",
       "      <th>not working</th>\n",
       "      <td>0.000000</td>\n",
       "      <td>0.892893</td>\n",
       "      <td>0.475809</td>\n",
       "    </tr>\n",
       "    <tr>\n",
       "      <th>part-time</th>\n",
       "      <td>0.114155</td>\n",
       "      <td>0.044695</td>\n",
       "      <td>0.135399</td>\n",
       "    </tr>\n",
       "  </tbody>\n",
       "</table>\n",
       "</div>"
      ],
      "text/plain": [
       "esr          Employed  Not in labor force  Unemployed\n",
       "whours                                               \n",
       "full-time    0.885845            0.062412    0.388792\n",
       "not working  0.000000            0.892893    0.475809\n",
       "part-time    0.114155            0.044695    0.135399"
      ]
     },
     "execution_count": 191,
     "metadata": {},
     "output_type": "execute_result"
    }
   ],
   "source": [
    "pd.crosstab(train['whours'], train['esr']).apply(lambda r: r/r.sum(), axis=0)"
   ]
  },
  {
   "cell_type": "code",
   "execution_count": 192,
   "metadata": {},
   "outputs": [
    {
     "data": {
      "text/html": [
       "<div>\n",
       "<style>\n",
       "    .dataframe thead tr:only-child th {\n",
       "        text-align: right;\n",
       "    }\n",
       "\n",
       "    .dataframe thead th {\n",
       "        text-align: left;\n",
       "    }\n",
       "\n",
       "    .dataframe tbody tr th {\n",
       "        vertical-align: top;\n",
       "    }\n",
       "</style>\n",
       "<table border=\"1\" class=\"dataframe\">\n",
       "  <thead>\n",
       "    <tr style=\"text-align: right;\">\n",
       "      <th>hicov</th>\n",
       "      <th>With Healthcare</th>\n",
       "      <th>Without Healthcare</th>\n",
       "    </tr>\n",
       "    <tr>\n",
       "      <th>missing</th>\n",
       "      <th></th>\n",
       "      <th></th>\n",
       "    </tr>\n",
       "  </thead>\n",
       "  <tbody>\n",
       "    <tr>\n",
       "      <th>False</th>\n",
       "      <td>0.782543</td>\n",
       "      <td>0.844987</td>\n",
       "    </tr>\n",
       "    <tr>\n",
       "      <th>True</th>\n",
       "      <td>0.217457</td>\n",
       "      <td>0.155013</td>\n",
       "    </tr>\n",
       "  </tbody>\n",
       "</table>\n",
       "</div>"
      ],
      "text/plain": [
       "hicov    With Healthcare  Without Healthcare\n",
       "missing                                     \n",
       "False           0.782543            0.844987\n",
       "True            0.217457            0.155013"
      ]
     },
     "execution_count": 192,
     "metadata": {},
     "output_type": "execute_result"
    }
   ],
   "source": [
    "# missing data by class\n",
    "train['missing'] = train.isnull().any(axis=1)\n",
    "pd.crosstab(train['missing'], train['hicov']).apply(lambda r: r/r.sum(), axis=0)"
   ]
  },
  {
   "cell_type": "code",
   "execution_count": 193,
   "metadata": {},
   "outputs": [
    {
     "data": {
      "text/plain": [
       "6     301146\n",
       "53     57923\n",
       "41     32213\n",
       "Name: st, dtype: int64"
      ]
     },
     "execution_count": 193,
     "metadata": {},
     "output_type": "execute_result"
    }
   ],
   "source": [
    "# geographic info\n",
    "train.st.value_counts()"
   ]
  },
  {
   "cell_type": "code",
   "execution_count": 194,
   "metadata": {},
   "outputs": [],
   "source": [
    "# impute missing values based on sex, age and state\n",
    "\n",
    "# impute values based on state median\n",
    "# by_state = df.groupby(['statename'])\n",
    "\n",
    "# # Write a function that imputes median\n",
    "# def impute_median(series):\n",
    "#     return series.fillna(series.median())\n",
    "\n",
    "# # Impute age and assign to titanic['age']\n",
    "# df.crime_rate = by_state['crime_rate'].transform(impute_median)\n",
    "# df.exercise = by_state['exercise'].transform(impute_median)\n",
    "# df.smoking = by_state['smoking'].transform(impute_median)\n",
    "# df.obesity = by_state['obesity'].transform(impute_median)\n",
    "\n",
    "\n",
    "def impute_values(data, group_vars):  \n",
    "    df = data.copy()\n",
    "    group= df.groupby(group_vars)\n",
    "    \n",
    "    def impute_median(series):\n",
    "        return series.fillna(series.median())\n",
    "    \n",
    "    def impute_mode(series):\n",
    "        return series.fillna(series.mode()[0])\n",
    "\n",
    "    # get variables with missing values\n",
    "\n",
    "    m = df.isnull().sum()/len(df)\n",
    "    variables = list(m[m>0.00].index)\n",
    "    \n",
    "    # impute \n",
    "    for v in variables:\n",
    "        if (df[v].dtypes == np.dtype('int')) | (df[v].dtypes == np.dtype('float')):\n",
    "            df[v] = group[v].transform(impute_median)\n",
    "        elif (df[v].dtypes == np.dtype('object')):\n",
    "            df[v] = group[v].transform(impute_mode) # most frequent category\n",
    "    return df"
   ]
  },
  {
   "cell_type": "code",
   "execution_count": 195,
   "metadata": {},
   "outputs": [],
   "source": [
    "# impute values\n",
    "imp_train = impute_values(train, group_vars = ['st', 'sex', 'age'])\n",
    "# listwise deletion\n",
    "# imp_train = train.dropna()"
   ]
  },
  {
   "cell_type": "code",
   "execution_count": 196,
   "metadata": {},
   "outputs": [
    {
     "data": {
      "text/html": [
       "<div>\n",
       "<style>\n",
       "    .dataframe thead tr:only-child th {\n",
       "        text-align: right;\n",
       "    }\n",
       "\n",
       "    .dataframe thead th {\n",
       "        text-align: left;\n",
       "    }\n",
       "\n",
       "    .dataframe tbody tr th {\n",
       "        vertical-align: top;\n",
       "    }\n",
       "</style>\n",
       "<table border=\"1\" class=\"dataframe\">\n",
       "  <thead>\n",
       "    <tr style=\"text-align: right;\">\n",
       "      <th></th>\n",
       "      <th>st</th>\n",
       "      <th>sex</th>\n",
       "      <th>age</th>\n",
       "      <th>id</th>\n",
       "      <th>pincp</th>\n",
       "    </tr>\n",
       "  </thead>\n",
       "  <tbody>\n",
       "    <tr>\n",
       "      <th>11</th>\n",
       "      <td>6</td>\n",
       "      <td>Female</td>\n",
       "      <td>16-20</td>\n",
       "      <td>15</td>\n",
       "      <td>NaN</td>\n",
       "    </tr>\n",
       "    <tr>\n",
       "      <th>12</th>\n",
       "      <td>6</td>\n",
       "      <td>Female</td>\n",
       "      <td>16-20</td>\n",
       "      <td>16</td>\n",
       "      <td>NaN</td>\n",
       "    </tr>\n",
       "    <tr>\n",
       "      <th>19</th>\n",
       "      <td>6</td>\n",
       "      <td>Female</td>\n",
       "      <td>16-20</td>\n",
       "      <td>24</td>\n",
       "      <td>NaN</td>\n",
       "    </tr>\n",
       "    <tr>\n",
       "      <th>50</th>\n",
       "      <td>6</td>\n",
       "      <td>Male</td>\n",
       "      <td>16-20</td>\n",
       "      <td>60</td>\n",
       "      <td>NaN</td>\n",
       "    </tr>\n",
       "    <tr>\n",
       "      <th>55</th>\n",
       "      <td>6</td>\n",
       "      <td>Male</td>\n",
       "      <td>16-20</td>\n",
       "      <td>69</td>\n",
       "      <td>NaN</td>\n",
       "    </tr>\n",
       "  </tbody>\n",
       "</table>\n",
       "</div>"
      ],
      "text/plain": [
       "    st     sex    age  id  pincp\n",
       "11   6  Female  16-20  15    NaN\n",
       "12   6  Female  16-20  16    NaN\n",
       "19   6  Female  16-20  24    NaN\n",
       "50   6    Male  16-20  60    NaN\n",
       "55   6    Male  16-20  69    NaN"
      ]
     },
     "execution_count": 196,
     "metadata": {},
     "output_type": "execute_result"
    }
   ],
   "source": [
    "train.loc[train['pincp'].isnull(), ['st', 'sex', 'age', 'id', 'pincp']].head()"
   ]
  },
  {
   "cell_type": "code",
   "execution_count": 197,
   "metadata": {},
   "outputs": [
    {
     "data": {
      "text/html": [
       "<div>\n",
       "<style>\n",
       "    .dataframe thead tr:only-child th {\n",
       "        text-align: right;\n",
       "    }\n",
       "\n",
       "    .dataframe thead th {\n",
       "        text-align: left;\n",
       "    }\n",
       "\n",
       "    .dataframe tbody tr th {\n",
       "        vertical-align: top;\n",
       "    }\n",
       "</style>\n",
       "<table border=\"1\" class=\"dataframe\">\n",
       "  <thead>\n",
       "    <tr style=\"text-align: right;\">\n",
       "      <th></th>\n",
       "      <th>st</th>\n",
       "      <th>sex</th>\n",
       "      <th>age</th>\n",
       "      <th>id</th>\n",
       "      <th>pincp</th>\n",
       "    </tr>\n",
       "  </thead>\n",
       "  <tbody>\n",
       "    <tr>\n",
       "      <th>11</th>\n",
       "      <td>6</td>\n",
       "      <td>Female</td>\n",
       "      <td>16-20</td>\n",
       "      <td>15</td>\n",
       "      <td>0.0</td>\n",
       "    </tr>\n",
       "    <tr>\n",
       "      <th>12</th>\n",
       "      <td>6</td>\n",
       "      <td>Female</td>\n",
       "      <td>16-20</td>\n",
       "      <td>16</td>\n",
       "      <td>0.0</td>\n",
       "    </tr>\n",
       "  </tbody>\n",
       "</table>\n",
       "</div>"
      ],
      "text/plain": [
       "    st     sex    age  id  pincp\n",
       "11   6  Female  16-20  15    0.0\n",
       "12   6  Female  16-20  16    0.0"
      ]
     },
     "execution_count": 197,
     "metadata": {},
     "output_type": "execute_result"
    }
   ],
   "source": [
    "imp_train.loc[train['id'].isin([15, 16]), ['st', 'sex', 'age', 'id', 'pincp']]"
   ]
  },
  {
   "cell_type": "code",
   "execution_count": 198,
   "metadata": {},
   "outputs": [],
   "source": [
    "# function to create dummy variable\n",
    "def get_dummies(data, variables, drop_first=False):\n",
    "    df = data.copy()\n",
    "    dd = pd.DataFrame()\n",
    "    for v in variables: \n",
    "        pd.get_dummies\n",
    "        dd = pd.concat([dd, pd.get_dummies(df.loc[:,v], drop_first=drop_first, prefix=v)], axis=1)\n",
    "    final = pd.concat([df.drop(variables, axis=1), dd], axis=1)\n",
    "    final.columns = final.columns.str.replace('\\+|\\.|\\s', '_').str.replace('_+', '_').str.lower()\n",
    "    final.reset_index(inplace=True)\n",
    "    return final"
   ]
  },
  {
   "cell_type": "code",
   "execution_count": 199,
   "metadata": {},
   "outputs": [],
   "source": [
    "# create dummies\n",
    "variables = ['cit', 'dear', 'deye', 'esr', 'mar', \n",
    "          'race', 'vet',  'schl', 'sex', 'puma', 'st', 'whours', 'pov'] \n",
    "clean_train = get_dummies(imp_train, variables, drop_first=True)"
   ]
  },
  {
   "cell_type": "code",
   "execution_count": 200,
   "metadata": {},
   "outputs": [
    {
     "data": {
      "text/plain": [
       "Series([], dtype: float64)"
      ]
     },
     "execution_count": 200,
     "metadata": {},
     "output_type": "execute_result"
    }
   ],
   "source": [
    "# check missing records\n",
    "missing_data(clean_train)"
   ]
  },
  {
   "cell_type": "code",
   "execution_count": 201,
   "metadata": {},
   "outputs": [
    {
     "data": {
      "text/plain": [
       "(391282, 377)"
      ]
     },
     "execution_count": 201,
     "metadata": {},
     "output_type": "execute_result"
    }
   ],
   "source": [
    "clean_train.shape # 371 features"
   ]
  },
  {
   "cell_type": "code",
   "execution_count": 202,
   "metadata": {},
   "outputs": [
    {
     "data": {
      "text/plain": [
       "0    366684\n",
       "1     24598\n",
       "Name: label, dtype: int64"
      ]
     },
     "execution_count": 202,
     "metadata": {},
     "output_type": "execute_result"
    }
   ],
   "source": [
    "clean_train.label.value_counts() # imbalance classification"
   ]
  },
  {
   "cell_type": "code",
   "execution_count": 203,
   "metadata": {},
   "outputs": [],
   "source": [
    "# reverse coding\n",
    "# clean_labels = pd.Series([0 if i==1 else 1 for i in clean_train['hicov_without_healthcare']])\n",
    "clean_labels = clean_train['label']"
   ]
  },
  {
   "cell_type": "code",
   "execution_count": 204,
   "metadata": {},
   "outputs": [
    {
     "data": {
      "text/plain": [
       "24598"
      ]
     },
     "execution_count": 204,
     "metadata": {},
     "output_type": "execute_result"
    }
   ],
   "source": [
    "clean_labels.sum()"
   ]
  },
  {
   "cell_type": "code",
   "execution_count": 205,
   "metadata": {},
   "outputs": [
    {
     "data": {
      "text/plain": [
       "Index(['index', 'agep', 'hicov', 'id', 'intp', 'pap', 'pincp', 'povpip',\n",
       "       'retp', 'wkhp',\n",
       "       ...\n",
       "       'puma_11705', 'puma_11706', 'puma_11801', 'puma_11802', 'puma_11900',\n",
       "       'st_41', 'st_53', 'whours_not_working', 'whours_part-time', 'pov_1'],\n",
       "      dtype='object', length=377)"
      ]
     },
     "execution_count": 205,
     "metadata": {},
     "output_type": "execute_result"
    }
   ],
   "source": [
    "clean_train.columns"
   ]
  },
  {
   "cell_type": "code",
   "execution_count": 206,
   "metadata": {},
   "outputs": [],
   "source": [
    "clean_train.drop(['id', 'index', 'missing', 'wkhp', 'age', 'label', 'hicov', \n",
    "                 'povpip'], axis=1, inplace=True)"
   ]
  },
  {
   "cell_type": "code",
   "execution_count": 207,
   "metadata": {},
   "outputs": [],
   "source": [
    "clean_train.drop(clean_train.filter(regex='^puma_').columns.tolist(), axis=1, inplace=True)"
   ]
  },
  {
   "cell_type": "code",
   "execution_count": 208,
   "metadata": {},
   "outputs": [
    {
     "data": {
      "text/plain": [
       "Series([], dtype: float64)"
      ]
     },
     "execution_count": 208,
     "metadata": {},
     "output_type": "execute_result"
    }
   ],
   "source": [
    "missing_data(clean_train)"
   ]
  },
  {
   "cell_type": "code",
   "execution_count": 209,
   "metadata": {},
   "outputs": [
    {
     "data": {
      "text/html": [
       "<div>\n",
       "<style>\n",
       "    .dataframe thead tr:only-child th {\n",
       "        text-align: right;\n",
       "    }\n",
       "\n",
       "    .dataframe thead th {\n",
       "        text-align: left;\n",
       "    }\n",
       "\n",
       "    .dataframe tbody tr th {\n",
       "        vertical-align: top;\n",
       "    }\n",
       "</style>\n",
       "<table border=\"1\" class=\"dataframe\">\n",
       "  <thead>\n",
       "    <tr style=\"text-align: right;\">\n",
       "      <th></th>\n",
       "      <th>agep</th>\n",
       "      <th>intp</th>\n",
       "      <th>pap</th>\n",
       "      <th>pincp</th>\n",
       "      <th>retp</th>\n",
       "      <th>cit_not_citizen</th>\n",
       "      <th>dear_yes</th>\n",
       "      <th>deye_yes</th>\n",
       "      <th>esr_not_in_labor_force</th>\n",
       "      <th>esr_unemployed</th>\n",
       "      <th>...</th>\n",
       "      <th>vet_veteran</th>\n",
       "      <th>schl_hs_degree</th>\n",
       "      <th>schl_less_than_hs</th>\n",
       "      <th>schl_undergrad_degree</th>\n",
       "      <th>sex_male</th>\n",
       "      <th>st_41</th>\n",
       "      <th>st_53</th>\n",
       "      <th>whours_not_working</th>\n",
       "      <th>whours_part-time</th>\n",
       "      <th>pov_1</th>\n",
       "    </tr>\n",
       "  </thead>\n",
       "  <tbody>\n",
       "    <tr>\n",
       "      <th>0</th>\n",
       "      <td>75</td>\n",
       "      <td>0.0</td>\n",
       "      <td>0.0</td>\n",
       "      <td>34000.0</td>\n",
       "      <td>24000.0</td>\n",
       "      <td>0</td>\n",
       "      <td>0</td>\n",
       "      <td>0</td>\n",
       "      <td>1</td>\n",
       "      <td>0</td>\n",
       "      <td>...</td>\n",
       "      <td>1</td>\n",
       "      <td>1</td>\n",
       "      <td>0</td>\n",
       "      <td>0</td>\n",
       "      <td>1</td>\n",
       "      <td>0</td>\n",
       "      <td>0</td>\n",
       "      <td>1</td>\n",
       "      <td>0</td>\n",
       "      <td>0</td>\n",
       "    </tr>\n",
       "    <tr>\n",
       "      <th>1</th>\n",
       "      <td>50</td>\n",
       "      <td>0.0</td>\n",
       "      <td>0.0</td>\n",
       "      <td>14300.0</td>\n",
       "      <td>0.0</td>\n",
       "      <td>0</td>\n",
       "      <td>0</td>\n",
       "      <td>0</td>\n",
       "      <td>0</td>\n",
       "      <td>0</td>\n",
       "      <td>...</td>\n",
       "      <td>0</td>\n",
       "      <td>1</td>\n",
       "      <td>0</td>\n",
       "      <td>0</td>\n",
       "      <td>0</td>\n",
       "      <td>0</td>\n",
       "      <td>0</td>\n",
       "      <td>0</td>\n",
       "      <td>1</td>\n",
       "      <td>0</td>\n",
       "    </tr>\n",
       "    <tr>\n",
       "      <th>2</th>\n",
       "      <td>49</td>\n",
       "      <td>0.0</td>\n",
       "      <td>0.0</td>\n",
       "      <td>15700.0</td>\n",
       "      <td>0.0</td>\n",
       "      <td>0</td>\n",
       "      <td>0</td>\n",
       "      <td>0</td>\n",
       "      <td>0</td>\n",
       "      <td>0</td>\n",
       "      <td>...</td>\n",
       "      <td>0</td>\n",
       "      <td>1</td>\n",
       "      <td>0</td>\n",
       "      <td>0</td>\n",
       "      <td>1</td>\n",
       "      <td>0</td>\n",
       "      <td>0</td>\n",
       "      <td>0</td>\n",
       "      <td>0</td>\n",
       "      <td>0</td>\n",
       "    </tr>\n",
       "    <tr>\n",
       "      <th>3</th>\n",
       "      <td>28</td>\n",
       "      <td>0.0</td>\n",
       "      <td>0.0</td>\n",
       "      <td>94000.0</td>\n",
       "      <td>0.0</td>\n",
       "      <td>0</td>\n",
       "      <td>0</td>\n",
       "      <td>0</td>\n",
       "      <td>0</td>\n",
       "      <td>0</td>\n",
       "      <td>...</td>\n",
       "      <td>0</td>\n",
       "      <td>0</td>\n",
       "      <td>0</td>\n",
       "      <td>1</td>\n",
       "      <td>0</td>\n",
       "      <td>0</td>\n",
       "      <td>0</td>\n",
       "      <td>0</td>\n",
       "      <td>0</td>\n",
       "      <td>0</td>\n",
       "    </tr>\n",
       "    <tr>\n",
       "      <th>4</th>\n",
       "      <td>31</td>\n",
       "      <td>0.0</td>\n",
       "      <td>0.0</td>\n",
       "      <td>110000.0</td>\n",
       "      <td>0.0</td>\n",
       "      <td>0</td>\n",
       "      <td>0</td>\n",
       "      <td>0</td>\n",
       "      <td>0</td>\n",
       "      <td>0</td>\n",
       "      <td>...</td>\n",
       "      <td>0</td>\n",
       "      <td>0</td>\n",
       "      <td>0</td>\n",
       "      <td>0</td>\n",
       "      <td>1</td>\n",
       "      <td>0</td>\n",
       "      <td>0</td>\n",
       "      <td>0</td>\n",
       "      <td>0</td>\n",
       "      <td>0</td>\n",
       "    </tr>\n",
       "  </tbody>\n",
       "</table>\n",
       "<p>5 rows × 32 columns</p>\n",
       "</div>"
      ],
      "text/plain": [
       "   agep  intp  pap     pincp     retp  cit_not_citizen  dear_yes  deye_yes  \\\n",
       "0    75   0.0  0.0   34000.0  24000.0                0         0         0   \n",
       "1    50   0.0  0.0   14300.0      0.0                0         0         0   \n",
       "2    49   0.0  0.0   15700.0      0.0                0         0         0   \n",
       "3    28   0.0  0.0   94000.0      0.0                0         0         0   \n",
       "4    31   0.0  0.0  110000.0      0.0                0         0         0   \n",
       "\n",
       "   esr_not_in_labor_force  esr_unemployed  ...    vet_veteran  schl_hs_degree  \\\n",
       "0                       1               0  ...              1               1   \n",
       "1                       0               0  ...              0               1   \n",
       "2                       0               0  ...              0               1   \n",
       "3                       0               0  ...              0               0   \n",
       "4                       0               0  ...              0               0   \n",
       "\n",
       "   schl_less_than_hs  schl_undergrad_degree  sex_male  st_41  st_53  \\\n",
       "0                  0                      0         1      0      0   \n",
       "1                  0                      0         0      0      0   \n",
       "2                  0                      0         1      0      0   \n",
       "3                  0                      1         0      0      0   \n",
       "4                  0                      0         1      0      0   \n",
       "\n",
       "   whours_not_working  whours_part-time  pov_1  \n",
       "0                   1                 0      0  \n",
       "1                   0                 1      0  \n",
       "2                   0                 0      0  \n",
       "3                   0                 0      0  \n",
       "4                   0                 0      0  \n",
       "\n",
       "[5 rows x 32 columns]"
      ]
     },
     "execution_count": 209,
     "metadata": {},
     "output_type": "execute_result"
    }
   ],
   "source": [
    "clean_train.head()"
   ]
  },
  {
   "cell_type": "markdown",
   "metadata": {},
   "source": [
    "# Create validation set"
   ]
  },
  {
   "cell_type": "markdown",
   "metadata": {},
   "source": [
    "The training set has enough data to create a validation set"
   ]
  },
  {
   "cell_type": "code",
   "execution_count": 210,
   "metadata": {},
   "outputs": [],
   "source": [
    "from sklearn.model_selection import train_test_split, StratifiedKFold"
   ]
  },
  {
   "cell_type": "code",
   "execution_count": 211,
   "metadata": {},
   "outputs": [],
   "source": [
    "X_train, X_test, y_train, y_test = train_test_split(clean_train, clean_labels, test_size=0.20, \n",
    "                                                    random_state=123, stratify=clean_labels)"
   ]
  },
  {
   "cell_type": "code",
   "execution_count": 233,
   "metadata": {},
   "outputs": [],
   "source": [
    "# cross validation function with over or under sampling\n",
    "def cross_validate(estimator, n_splits, features, labels, \n",
    "                   random_state=123, bagging=True): \n",
    "    \n",
    "    skf = StratifiedKFold(n_splits=n_splits, shuffle=True, random_state=random_state)\n",
    "    fold_count=0 # iteration index\n",
    "    for train_index, val_index in skf.split(features, labels):\n",
    "        fold_count+=1\n",
    "        print(\"\\n Processing fold %s\" % fold_count)\n",
    "        \n",
    "        if bagging:\n",
    "            estimator.fit(features.iloc[train_index], labels.iloc[train_index])\n",
    "        else:\n",
    "#             X_resampled, y_resampled = us.AllKNN(random_state=random_state).fit_sample(\n",
    "#                 features.iloc[train_index],\n",
    "#                 labels.iloc[train_index])\n",
    "#             X_resampled, y_resampled = SMOTEENN(random_state=random_state).fit_sample(\n",
    "#                 features.iloc[train_index],\n",
    "#                 labels.iloc[train_index])\n",
    "            X_resampled, y_resampled = os.ADASYN(random_state=random_state).fit_sample(\n",
    "                features.iloc[train_index],\n",
    "                labels.iloc[train_index])\n",
    "            estimator.fit(X_resampled, y_resampled)\n",
    "            \n",
    "        pred = estimator.predict(features.iloc[val_index])\n",
    "#         pred = [1 if i[1]>0.50 else 0 for i in pred_proba]\n",
    "        # plots\n",
    "#         skplt.metrics.plot_precision_recall_curve(labels.iloc[val_index], pred_proba)\n",
    "#         skplt.metrics.plot_roc_curve(labels.iloc[val_index], pred_proba)\n",
    "        # evaluation \n",
    "        print('\\n Classification report:\\n')\n",
    "        print(classification_report_imbalanced(labels.iloc[val_index], pred))\n",
    "        print('Confusion matrix:\\n')\n",
    "        print(met.confusion_matrix(labels.iloc[val_index], pred))"
   ]
  },
  {
   "cell_type": "markdown",
   "metadata": {},
   "source": [
    "### Baseline"
   ]
  },
  {
   "cell_type": "code",
   "execution_count": 218,
   "metadata": {},
   "outputs": [],
   "source": [
    "from sklearn.linear_model import LogisticRegression\n",
    "from sklearn.model_selection import cross_val_score"
   ]
  },
  {
   "cell_type": "code",
   "execution_count": 219,
   "metadata": {},
   "outputs": [],
   "source": [
    "log_reg = LogisticRegression()"
   ]
  },
  {
   "cell_type": "code",
   "execution_count": 220,
   "metadata": {},
   "outputs": [
    {
     "name": "stdout",
     "output_type": "stream",
     "text": [
      "\n",
      " Processing fold 1\n",
      "\n",
      " Classification report:\n",
      "\n",
      "                   pre       rec       spe        f1       geo       iba       sup\n",
      "\n",
      "          0       0.96      0.41      0.74      0.58      0.27      0.08     97783\n",
      "          1       0.08      0.74      0.41      0.14      0.27      0.07      6560\n",
      "\n",
      "avg / total       0.90      0.43      0.72      0.55      0.27      0.08    104343\n",
      "\n",
      "Confusion matrix:\n",
      "\n",
      "[[40281 57502]\n",
      " [ 1708  4852]]\n",
      "\n",
      " Processing fold 2\n",
      "\n",
      " Classification report:\n",
      "\n",
      "                   pre       rec       spe        f1       geo       iba       sup\n",
      "\n",
      "          0       0.96      0.43      0.75      0.59      0.28      0.08     97782\n",
      "          1       0.08      0.75      0.43      0.15      0.28      0.07      6559\n",
      "\n",
      "avg / total       0.91      0.45      0.73      0.56      0.28      0.08    104341\n",
      "\n",
      "Confusion matrix:\n",
      "\n",
      "[[41699 56083]\n",
      " [ 1644  4915]]\n",
      "\n",
      " Processing fold 3\n",
      "\n",
      " Classification report:\n",
      "\n",
      "                   pre       rec       spe        f1       geo       iba       sup\n",
      "\n",
      "          0       0.96      0.42      0.77      0.58      0.28      0.09     97782\n",
      "          1       0.08      0.77      0.42      0.15      0.28      0.07      6559\n",
      "\n",
      "avg / total       0.91      0.44      0.75      0.55      0.28      0.08    104341\n",
      "\n",
      "Confusion matrix:\n",
      "\n",
      "[[40751 57031]\n",
      " [ 1527  5032]]\n"
     ]
    }
   ],
   "source": [
    "cross_validate(log_reg, n_splits=3, features=X_train, labels=y_train, bagging=False)"
   ]
  },
  {
   "cell_type": "markdown",
   "metadata": {},
   "source": [
    "### Random Forest"
   ]
  },
  {
   "cell_type": "code",
   "execution_count": 221,
   "metadata": {},
   "outputs": [],
   "source": [
    "from imblearn.ensemble import BalancedBaggingClassifier \n",
    "from  sklearn.ensemble import RandomForestClassifier"
   ]
  },
  {
   "cell_type": "code",
   "execution_count": 222,
   "metadata": {},
   "outputs": [],
   "source": [
    "rnd_clf = RandomForestClassifier(n_estimators=100)"
   ]
  },
  {
   "cell_type": "code",
   "execution_count": 224,
   "metadata": {},
   "outputs": [],
   "source": [
    "bbc = BalancedBaggingClassifier(base_estimator=rnd_clf, random_state=123)"
   ]
  },
  {
   "cell_type": "code",
   "execution_count": 225,
   "metadata": {},
   "outputs": [
    {
     "name": "stdout",
     "output_type": "stream",
     "text": [
      "\n",
      " Processing fold 1\n",
      "\n",
      " Classification report:\n",
      "\n",
      "                   pre       rec       spe        f1       geo       iba       sup\n",
      "\n",
      "          0       0.98      0.74      0.76      0.84      0.40      0.17     97783\n",
      "          1       0.16      0.76      0.74      0.27      0.40      0.15      6560\n",
      "\n",
      "avg / total       0.93      0.74      0.76      0.80      0.40      0.17    104343\n",
      "\n",
      "Confusion matrix:\n",
      "\n",
      "[[71972 25811]\n",
      " [ 1589  4971]]\n",
      "\n",
      " Processing fold 2\n",
      "\n",
      " Classification report:\n",
      "\n",
      "                   pre       rec       spe        f1       geo       iba       sup\n",
      "\n",
      "          0       0.98      0.74      0.76      0.84      0.40      0.17     97782\n",
      "          1       0.16      0.76      0.74      0.27      0.40      0.15      6559\n",
      "\n",
      "avg / total       0.93      0.74      0.76      0.80      0.40      0.17    104341\n",
      "\n",
      "Confusion matrix:\n",
      "\n",
      "[[71940 25842]\n",
      " [ 1555  5004]]\n",
      "\n",
      " Processing fold 3\n",
      "\n",
      " Classification report:\n",
      "\n",
      "                   pre       rec       spe        f1       geo       iba       sup\n",
      "\n",
      "          0       0.98      0.73      0.75      0.84      0.40      0.17     97782\n",
      "          1       0.16      0.75      0.73      0.26      0.40      0.14      6559\n",
      "\n",
      "avg / total       0.93      0.74      0.75      0.80      0.40      0.17    104341\n",
      "\n",
      "Confusion matrix:\n",
      "\n",
      "[[71832 25950]\n",
      " [ 1608  4951]]\n"
     ]
    }
   ],
   "source": [
    "cross_validate(bbc, n_splits=3, features=X_train, labels=y_train, bagging=True) # slow"
   ]
  },
  {
   "cell_type": "code",
   "execution_count": 226,
   "metadata": {},
   "outputs": [],
   "source": [
    "# cross_validate(rnd_clf, n_splits=3, features=X_train, labels=y_train, bagging=False)"
   ]
  },
  {
   "cell_type": "markdown",
   "metadata": {},
   "source": [
    "### xgboost"
   ]
  },
  {
   "cell_type": "code",
   "execution_count": 227,
   "metadata": {},
   "outputs": [],
   "source": [
    "import xgboost as xgb"
   ]
  },
  {
   "cell_type": "code",
   "execution_count": 234,
   "metadata": {},
   "outputs": [],
   "source": [
    "xgb_clf = xgb.XGBClassifier(objective='binary:logistic', n_estimators=100)"
   ]
  },
  {
   "cell_type": "code",
   "execution_count": null,
   "metadata": {},
   "outputs": [
    {
     "name": "stdout",
     "output_type": "stream",
     "text": [
      "\n",
      " Processing fold 1\n"
     ]
    }
   ],
   "source": [
    "cross_validate(xgb_clf, n_splits=3, features=X_train, labels=y_train, bagging=False) # slow"
   ]
  },
  {
   "cell_type": "markdown",
   "metadata": {},
   "source": [
    "# Feature importance"
   ]
  },
  {
   "cell_type": "code",
   "execution_count": null,
   "metadata": {},
   "outputs": [],
   "source": [
    "# function to create feature importance plot\n",
    "def importance_plot(estimator, features, thresold = 0.0):\n",
    "    im = sorted(zip(map(lambda x: round(x, 3), estimator.feature_importances_), \n",
    "           features))\n",
    "    im  = pd.DataFrame(im, columns=['importance', 'feature'])\n",
    "    im = im.loc[im.importance > thresold,:] # filter\n",
    "    plot = im.plot.barh(x='feature',legend=None)\n",
    "    plt.ylabel('Features')\n",
    "    plt.xlabel('Importance')\n",
    "    return plot"
   ]
  },
  {
   "cell_type": "code",
   "execution_count": null,
   "metadata": {},
   "outputs": [],
   "source": [
    "importance_plot(rnd_clf, features);"
   ]
  },
  {
   "cell_type": "markdown",
   "metadata": {},
   "source": [
    "# Validation set"
   ]
  },
  {
   "cell_type": "markdown",
   "metadata": {},
   "source": [
    "Test using the validation set created above."
   ]
  },
  {
   "cell_type": "code",
   "execution_count": null,
   "metadata": {},
   "outputs": [],
   "source": []
  }
 ],
 "metadata": {
  "kernelspec": {
   "display_name": "Python [default]",
   "language": "python",
   "name": "python3"
  },
  "language_info": {
   "codemirror_mode": {
    "name": "ipython",
    "version": 3
   },
   "file_extension": ".py",
   "mimetype": "text/x-python",
   "name": "python",
   "nbconvert_exporter": "python",
   "pygments_lexer": "ipython3",
   "version": "3.6.1"
  }
 },
 "nbformat": 4,
 "nbformat_minor": 2
}
